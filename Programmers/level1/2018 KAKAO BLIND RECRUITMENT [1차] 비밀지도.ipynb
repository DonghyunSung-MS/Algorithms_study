{
 "cells": [
  {
   "cell_type": "markdown",
   "metadata": {},
   "source": [
    "## Brain Storming\n",
    "1. 지도1 벽(1) or 지도2 벽(1) -> 벽\n",
    "1. 지도1 공(0) and 지도2 공(0) -> 공\n",
    "1. OR 게이트 \n",
    "    * (1,1) -> 1\n",
    "    * (1,0) -> 1\n",
    "    * (0,1) -> 1\n",
    "    * (0,0) -> 0\n",
    "1. 입력\n",
    "    * n -> n by n\n",
    "    * arr1,arr2 -> 지도 1,2 10진수(열) 정보"
   ]
  },
  {
   "cell_type": "code",
   "execution_count": 17,
   "metadata": {},
   "outputs": [
    {
     "name": "stdout",
     "output_type": "stream",
     "text": [
      "['#####', '# # #', '### #', '#  ##', '#####']\n"
     ]
    }
   ],
   "source": [
    "#입력\n",
    "n = 5\n",
    "arr1 = [9, 20, 28, 18, 11]\n",
    "arr2 = [30, 1, 21, 17, 28]\n",
    "#정답\n",
    "sol = [\"#####\",\"# # #\", \"### #\", \"# ##\", \"#####\"]\n",
    "#풀이\n",
    "def deci2bool(n,arr):\n",
    "    bi = []\n",
    "    for ele in arr:\n",
    "        tmp = []\n",
    "        for _ in range(n):\n",
    "            tmp+=[bool(ele%2)]\n",
    "            ele=ele//2\n",
    "        bi+=[tmp[::-1]]\n",
    "    return bi\n",
    "\n",
    "def solution(n, arr1, arr2):\n",
    "    arr1_bool = deci2bool(n,arr1)\n",
    "    arr2_bool = deci2bool(n,arr2)\n",
    "    answer = []\n",
    "    for i in range(n):\n",
    "        tmp = \"\"\n",
    "        for j in range(n):\n",
    "            if arr1_bool[i][j] or arr2_bool[i][j]:\n",
    "                tmp+='#'\n",
    "            else:\n",
    "                tmp+=' '\n",
    "        answer.append(tmp)\n",
    "\n",
    "    return answer\n",
    "\n",
    "if __name__=='__main__':\n",
    "    print(solution(n, arr1, arr2))"
   ]
  },
  {
   "cell_type": "markdown",
   "metadata": {},
   "source": [
    "## 다른 사람 풀이(binary ->bin 함수기억하기)"
   ]
  },
  {
   "cell_type": "code",
   "execution_count": 28,
   "metadata": {},
   "outputs": [
    {
     "data": {
      "text/plain": [
       "['#####', '# # #', '### #', '#  ##', '#####']"
      ]
     },
     "execution_count": 28,
     "metadata": {},
     "output_type": "execute_result"
    }
   ],
   "source": [
    "fin_list=[]\n",
    "for i,j in zip(arr1,arr2):\n",
    "    list1 = int(bin(i)[2:])\n",
    "    list2 = int(bin(j)[2:])\n",
    "    #print(list1,list2)\n",
    "    fin_list.append(str(list1+list2).zfill(n))\n",
    "    #print(str(list1+list2).zfill(n))\n",
    "fin=[]\n",
    "for a in fin_list:\n",
    "    fin_r=''\n",
    "    for b in a:\n",
    "        if b=='0':\n",
    "            fin_r+=\" \"\n",
    "        else:\n",
    "            fin_r+=\"#\"\n",
    "    fin.append(fin_r)\n",
    "fin"
   ]
  },
  {
   "cell_type": "code",
   "execution_count": null,
   "metadata": {},
   "outputs": [],
   "source": []
  }
 ],
 "metadata": {
  "kernelspec": {
   "display_name": "Python 3",
   "language": "python",
   "name": "python3"
  },
  "language_info": {
   "codemirror_mode": {
    "name": "ipython",
    "version": 3
   },
   "file_extension": ".py",
   "mimetype": "text/x-python",
   "name": "python",
   "nbconvert_exporter": "python",
   "pygments_lexer": "ipython3",
   "version": "3.6.10"
  }
 },
 "nbformat": 4,
 "nbformat_minor": 2
}
