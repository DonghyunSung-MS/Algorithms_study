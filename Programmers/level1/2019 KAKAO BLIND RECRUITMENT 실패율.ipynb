{
 "cells": [
  {
   "cell_type": "markdown",
   "metadata": {},
   "source": [
    "## Brain Storming\n",
    "1. 실패율 : 스테이지에 도달했으나 아직 클리어하지 못한 플레이어의 수 / 스테이지에 도달한 플레이어 수\n",
    "1. 목표 : 실패율의 높은 순서대로 stage 배열 반환\n",
    "1. 입력 및 조건\n",
    "    * N 스테이지 갯수\n",
    "    * stages(배열) len:1 200,000, ele: 1 N+1\n",
    "    * N+1 모두 클리어 , ele-> ele-1 까지 클리어 했다.\n",
    "    * 낮은 스테이지가 먼저 같은 실패율이면\n",
    "    * 도달한 유저가 없으면 실패율 0\n",
    "1. 예시 이해\n",
    "    * 5, [2, 1, 2, 6, 2, 4, 3, 3] \n",
    "        * stage 1: 1/8명\n",
    "        * stage 2: 3/7명\n",
    "        * stage 3: 2/4\n",
    "        * stage 4: 1/2\n",
    "        * stage 5: 0/1"
   ]
  },
  {
   "cell_type": "code",
   "execution_count": 36,
   "metadata": {},
   "outputs": [
    {
     "name": "stdout",
     "output_type": "stream",
     "text": [
      "[3, 4, 2, 1, 5]\n"
     ]
    }
   ],
   "source": [
    "N = 5\n",
    "stages = [2, 1, 2, 6, 2, 4, 3, 3]\n",
    "def count_stage_people(target_stage,stages):\n",
    "    cnt = 0\n",
    "    for stage in stages:\n",
    "        if target_stage==stage:\n",
    "            cnt+=1\n",
    "    return cnt\n",
    "\n",
    "def solution(N, stages):\n",
    "    num_people_stage = len(stages)\n",
    "    prev_stage_cnt = count_stage_people(1,stages)\n",
    "    fail_rate_list = [prev_stage_cnt/num_people_stage]\n",
    "    for i in range(N-1):\n",
    "        num_people_stage -=prev_stage_cnt\n",
    "        current_stage_cnt = count_stage_people(i+2,stages)\n",
    "        fail_rate_list.append(current_stage_cnt/num_people_stage if current_stage_cnt>0 and num_people_stage else 0)\n",
    "        prev_stage_cnt = current_stage_cnt\n",
    "    answer = [x+1 for x in range(N)]\n",
    "    #print(fail_rate_list)\n",
    "    #print(answer)\n",
    "    answer.sort(key=lambda x: -fail_rate_list[x-1])\n",
    "    #answer=sorted(answer,key=lambda x: -fail_rate_list[x-1])\n",
    "    return answer\n",
    "\n",
    "if __name__==\"__main__\":\n",
    "    print(solution(N,stages))"
   ]
  },
  {
   "cell_type": "code",
   "execution_count": null,
   "metadata": {},
   "outputs": [],
   "source": []
  }
 ],
 "metadata": {
  "kernelspec": {
   "display_name": "Python 3",
   "language": "python",
   "name": "python3"
  },
  "language_info": {
   "codemirror_mode": {
    "name": "ipython",
    "version": 3
   },
   "file_extension": ".py",
   "mimetype": "text/x-python",
   "name": "python",
   "nbconvert_exporter": "python",
   "pygments_lexer": "ipython3",
   "version": "3.6.10"
  }
 },
 "nbformat": 4,
 "nbformat_minor": 2
}
