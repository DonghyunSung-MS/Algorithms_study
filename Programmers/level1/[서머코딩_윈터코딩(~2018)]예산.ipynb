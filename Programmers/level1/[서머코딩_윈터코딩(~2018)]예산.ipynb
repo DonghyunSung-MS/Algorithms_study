{
 "cells": [
  {
   "cell_type": "markdown",
   "metadata": {},
   "source": [
    "## Brain Storming\n",
    "\n",
    "* 최대 몇 개의 부서에 물품을 지원할 수 있는지 return 하도록 solution 함수를 완성해주세요.\n",
    "* d 부서별 신청 금액(부서:1~100개)\n",
    "* budget 금액\n",
    "* 최대한 많은 부서의 금액을 나눠주고 싶다.\n",
    "* 가장 작은 돈을 요구한 부서 부터 주자?"
   ]
  },
  {
   "cell_type": "code",
   "execution_count": 38,
   "metadata": {},
   "outputs": [
    {
     "name": "stdout",
     "output_type": "stream",
     "text": [
      "8 [3, 3, 2]\n",
      "6 [3, 3]\n",
      "3 [3]\n",
      "0 []\n",
      "4\n"
     ]
    }
   ],
   "source": [
    "d = [2,2,3,3]\n",
    "budget = 10\n",
    "def solution(d, budget):\n",
    "    d.sort(reverse=True)\n",
    "    answer = 0\n",
    "    while d:\n",
    "        budget=budget-d.pop()\n",
    "        if budget<0:\n",
    "            break\n",
    "        answer+=1\n",
    "        print(budget,d)\n",
    "    return answer\n",
    "\n",
    "if __name__==\"__main__\":\n",
    "    print(solution(d,budget))"
   ]
  },
  {
   "cell_type": "code",
   "execution_count": null,
   "metadata": {},
   "outputs": [],
   "source": []
  }
 ],
 "metadata": {
  "kernelspec": {
   "display_name": "Python 3",
   "language": "python",
   "name": "python3"
  },
  "language_info": {
   "codemirror_mode": {
    "name": "ipython",
    "version": 3
   },
   "file_extension": ".py",
   "mimetype": "text/x-python",
   "name": "python",
   "nbconvert_exporter": "python",
   "pygments_lexer": "ipython3",
   "version": "3.6.10"
  }
 },
 "nbformat": 4,
 "nbformat_minor": 2
}
