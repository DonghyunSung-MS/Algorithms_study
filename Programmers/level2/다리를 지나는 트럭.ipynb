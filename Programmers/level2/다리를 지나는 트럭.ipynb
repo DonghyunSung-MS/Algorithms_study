{
 "cells": [
  {
   "cell_type": "code",
   "execution_count": 35,
   "metadata": {},
   "outputs": [
    {
     "name": "stdout",
     "output_type": "stream",
     "text": [
      "time 2 wait [6, 5, 4] in_bridge [7] [2] out_bridge []\n",
      "time 3 wait [6, 5] in_bridge [4] [1] out_bridge [7]\n",
      "time 4 wait [6] in_bridge [4, 5] [2, 1] out_bridge [7]\n",
      "time 5 wait [6] in_bridge [5] [2] out_bridge [7, 4]\n",
      "time 6 wait [] in_bridge [6] [1] out_bridge [7, 4, 5]\n",
      "time 7 wait [] in_bridge [6] [2] out_bridge [7, 4, 5]\n",
      "time 8 wait [] in_bridge [] [] out_bridge [7, 4, 5, 6]\n",
      "8\n"
     ]
    }
   ],
   "source": [
    "# 조건\n",
    "bridge_length = 2\n",
    "weight = 10\n",
    "truck_weights = [7,4,5,6]\n",
    "#===========================================================================================================================\n",
    "wait = truck_weights[::-1]\n",
    "out_bridge = []\n",
    "in_bridge = []\n",
    "in_bridge_pos = []\n",
    "time = 1\n",
    "truck=wait.pop()\n",
    "in_bridge.append(truck)\n",
    "in_bridge_pos.append(1)\n",
    "while True:\n",
    "    time +=1\n",
    "    # 거리 도달한 트럭 빼기\n",
    "    tmp = 0\n",
    "    num_truck_in = len(in_bridge)\n",
    "    for i in range(num_truck_in):\n",
    "        if in_bridge_pos[i-tmp]>= bridge_length:\n",
    "            in_bridge_pos.pop(0)\n",
    "            out_bridge.append(in_bridge.pop(0))\n",
    "            tmp = tmp+1\n",
    "            \n",
    "    # 나머지 트럭들 한칸씩 이동\n",
    "    for i in range(num_truck_in-tmp):\n",
    "        in_bridge_pos[i]+=1\n",
    "        \n",
    "    # 새로들어갈 트럭 대기시키기\n",
    "    new_truck = None\n",
    "    if wait:\n",
    "        new_truck = wait[-1]\n",
    "        if(sum(in_bridge)+new_truck<=weight):\n",
    "            in_bridge.append(new_truck)\n",
    "            in_bridge_pos.append(1)\n",
    "            wait.pop()\n",
    "    print(\"time\",time,\"wait\",wait,\"in_bridge\",in_bridge,in_bridge_pos,\"out_bridge\",out_bridge)\n",
    "    if not wait and not in_bridge:\n",
    "        break\n",
    "        \n",
    "    \n",
    "print(time)"
   ]
  }
 ],
 "metadata": {
  "kernelspec": {
   "display_name": "Python 3",
   "language": "python",
   "name": "python3"
  },
  "language_info": {
   "codemirror_mode": {
    "name": "ipython",
    "version": 3
   },
   "file_extension": ".py",
   "mimetype": "text/x-python",
   "name": "python",
   "nbconvert_exporter": "python",
   "pygments_lexer": "ipython3",
   "version": "3.6.10"
  }
 },
 "nbformat": 4,
 "nbformat_minor": 2
}
