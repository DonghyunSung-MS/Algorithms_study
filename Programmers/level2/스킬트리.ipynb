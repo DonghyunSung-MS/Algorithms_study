{
 "cells": [
  {
   "cell_type": "markdown",
   "metadata": {},
   "source": [
    " ## 1차 풀이"
   ]
  },
  {
   "cell_type": "code",
   "execution_count": 35,
   "metadata": {},
   "outputs": [
    {
     "name": "stdout",
     "output_type": "stream",
     "text": [
      "4\n"
     ]
    }
   ],
   "source": [
    "skill = \"C\"\n",
    "skill_trees = [\"BACDE\", \"CBADF\", \"AECB\", \"X\"]\n",
    "answer = 0\n",
    "for i in range(len(skill_trees)):\n",
    "    if len(skill)==1:\n",
    "        answer = len(skill_trees)\n",
    "        break\n",
    "    flag = None\n",
    "    x = []\n",
    "    for ind,char in enumerate(skill):\n",
    "        x.append((char,skill_trees[i].find(char)))\n",
    "    print(x)\n",
    "    \n",
    "    tmp_c = None\n",
    "    tmp_indx = None\n",
    "    for iter,(char,indx) in enumerate(x):\n",
    "        if iter == 0:\n",
    "            tmp_c = char\n",
    "            tmp_indx = indx\n",
    "        else:\n",
    "            if(tmp_indx== -1):\n",
    "                if indx!=-1:\n",
    "                    flag = False\n",
    "                    break\n",
    "                else:\n",
    "                    flag = True\n",
    "            else:\n",
    "                if tmp_indx<indx or indx==-1:\n",
    "                    flag = True\n",
    "                else:\n",
    "                    flag = False\n",
    "                    break\n",
    "        tmp_c = char\n",
    "        tmp_indx = indx\n",
    "        \n",
    "    if flag:\n",
    "        print(i)\n",
    "        answer+=1\n",
    "        \n",
    "        \n",
    "print(answer)"
   ]
  },
  {
   "cell_type": "markdown",
   "metadata": {},
   "source": [
    "## 풀이 보완"
   ]
  },
  {
   "cell_type": "code",
   "execution_count": 9,
   "metadata": {},
   "outputs": [
    {
     "name": "stdout",
     "output_type": "stream",
     "text": [
      "2\n"
     ]
    }
   ],
   "source": [
    "skill = \"CBD\"\n",
    "skill_trees = [\"BACDE\", \"CBADF\", \"AECB\", \"BDA\"]\n",
    "answer = 0\n",
    "for skill_tree in skill_trees:\n",
    "    skill_order = list(skill) #['C','B','D']\n",
    "    for skill_element in skill_tree: # \"BACDE\"\n",
    "        if skill_element in skill_order: # 'B'\n",
    "            if skill_element!=skill_order.pop(0): #'B'!='C'\n",
    "                break\n",
    "    else:\n",
    "        answer+=1\n",
    "        \n",
    "print(answer)"
   ]
  }
 ],
 "metadata": {
  "kernelspec": {
   "display_name": "Python 3",
   "language": "python",
   "name": "python3"
  },
  "language_info": {
   "codemirror_mode": {
    "name": "ipython",
    "version": 3
   },
   "file_extension": ".py",
   "mimetype": "text/x-python",
   "name": "python",
   "nbconvert_exporter": "python",
   "pygments_lexer": "ipython3",
   "version": "3.6.10"
  }
 },
 "nbformat": 4,
 "nbformat_minor": 2
}
